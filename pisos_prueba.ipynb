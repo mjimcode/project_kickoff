{
 "cells": [
  {
   "cell_type": "markdown",
   "id": "e520117b",
   "metadata": {},
   "source": [
    "### Import necessary libraries"
   ]
  },
  {
   "cell_type": "code",
   "execution_count": 754,
   "id": "6fb74d6b",
   "metadata": {},
   "outputs": [],
   "source": [
    "import pandas as pd\n",
    "from sklearn.model_selection import train_test_split\n",
    "from sklearn.linear_model import LinearRegression\n",
    "from sklearn.metrics import mean_squared_error, r2_score\n",
    "from sklearn.preprocessing import OneHotEncoder, StandardScaler\n",
    "from sklearn.compose import ColumnTransformer\n",
    "from sklearn.pipeline import Pipeline\n",
    "from sklearn.neighbors import KNeighborsRegressor\n",
    "from sklearn.model_selection import GridSearchCV, train_test_split\n",
    "import matplotlib.pyplot as plt\n",
    "import seaborn as sns"
   ]
  },
  {
   "cell_type": "markdown",
   "id": "883381b2",
   "metadata": {},
   "source": [
    "### Data Loading and Inspection"
   ]
  },
  {
   "cell_type": "code",
   "execution_count": 755,
   "id": "2ba5e9ff",
   "metadata": {},
   "outputs": [
    {
     "name": "stderr",
     "output_type": "stream",
     "text": [
      "C:\\Users\\Usuario\\AppData\\Local\\Temp\\ipykernel_21984\\402079931.py:2: DtypeWarning: Columns (10) have mixed types. Specify dtype option on import or set low_memory=False.\n",
      "  df = pd.read_csv('pisos.csv')\n"
     ]
    },
    {
     "data": {
      "text/html": [
       "<div>\n",
       "<style scoped>\n",
       "    .dataframe tbody tr th:only-of-type {\n",
       "        vertical-align: middle;\n",
       "    }\n",
       "\n",
       "    .dataframe tbody tr th {\n",
       "        vertical-align: top;\n",
       "    }\n",
       "\n",
       "    .dataframe thead th {\n",
       "        text-align: right;\n",
       "    }\n",
       "</style>\n",
       "<table border=\"1\" class=\"dataframe\">\n",
       "  <thead>\n",
       "    <tr style=\"text-align: right;\">\n",
       "      <th></th>\n",
       "      <th>Unnamed: 0</th>\n",
       "      <th>summary</th>\n",
       "      <th>description</th>\n",
       "      <th>location</th>\n",
       "      <th>photo</th>\n",
       "      <th>recomendado</th>\n",
       "      <th>price</th>\n",
       "      <th>size</th>\n",
       "      <th>rooms</th>\n",
       "      <th>price/m2</th>\n",
       "      <th>bathrooms</th>\n",
       "      <th>Num Photos</th>\n",
       "      <th>type</th>\n",
       "      <th>region</th>\n",
       "    </tr>\n",
       "  </thead>\n",
       "  <tbody>\n",
       "    <tr>\n",
       "      <th>0</th>\n",
       "      <td>0</td>\n",
       "      <td>Casa en calle Urb. Las Mimosas</td>\n",
       "      <td>NaN</td>\n",
       "      <td>Ames (San Tome)</td>\n",
       "      <td>https://fotos4.imghs.net/nrd/1069/104/1069_I00...</td>\n",
       "      <td>Recomendado</td>\n",
       "      <td>250.000 €</td>\n",
       "      <td>315 m²</td>\n",
       "      <td>4</td>\n",
       "      <td>793 €/m²</td>\n",
       "      <td>3</td>\n",
       "      <td>31</td>\n",
       "      <td>pisos</td>\n",
       "      <td>a_coruna</td>\n",
       "    </tr>\n",
       "    <tr>\n",
       "      <th>1</th>\n",
       "      <td>1</td>\n",
       "      <td>Piso en Milladoiro</td>\n",
       "      <td>NaN</td>\n",
       "      <td>Ames (San Tome)</td>\n",
       "      <td>https://fotos4.imghs.net/nrd/1069/113/1069_I00...</td>\n",
       "      <td>Recomendado</td>\n",
       "      <td>90.000 €</td>\n",
       "      <td>72 m²</td>\n",
       "      <td>2</td>\n",
       "      <td>1.250 €/m²</td>\n",
       "      <td>1</td>\n",
       "      <td>11</td>\n",
       "      <td>pisos</td>\n",
       "      <td>a_coruna</td>\n",
       "    </tr>\n",
       "    <tr>\n",
       "      <th>2</th>\n",
       "      <td>2</td>\n",
       "      <td>Casa en calle La Piedra</td>\n",
       "      <td>NaN</td>\n",
       "      <td>A Ortigueira (Cariño)</td>\n",
       "      <td>https://fotos1.imghs.net/nrd//999170/892070610...</td>\n",
       "      <td>Recomendado</td>\n",
       "      <td>50.000 €</td>\n",
       "      <td>92 m²</td>\n",
       "      <td>2</td>\n",
       "      <td>543 €/m²</td>\n",
       "      <td>1</td>\n",
       "      <td>40</td>\n",
       "      <td>pisos</td>\n",
       "      <td>a_coruna</td>\n",
       "    </tr>\n",
       "    <tr>\n",
       "      <th>3</th>\n",
       "      <td>3</td>\n",
       "      <td>Casa en Perillo</td>\n",
       "      <td>NaN</td>\n",
       "      <td>Perillo (Oleiros)</td>\n",
       "      <td>https://fotos3.imghs.net/nrd/1089/198/1089_XA2...</td>\n",
       "      <td>Recomendado</td>\n",
       "      <td>359.000 €</td>\n",
       "      <td>244 m²</td>\n",
       "      <td>4</td>\n",
       "      <td>1.471 €/m²</td>\n",
       "      <td>3</td>\n",
       "      <td>39</td>\n",
       "      <td>pisos</td>\n",
       "      <td>a_coruna</td>\n",
       "    </tr>\n",
       "    <tr>\n",
       "      <th>4</th>\n",
       "      <td>4</td>\n",
       "      <td>Chalet en Urbanización Las Mimosas</td>\n",
       "      <td>NaN</td>\n",
       "      <td>O Milladoiro (Ames)</td>\n",
       "      <td>https://fotos5.imghs.net/nrd/1097/754/1097_0_f...</td>\n",
       "      <td>Recomendado</td>\n",
       "      <td>200.430 €</td>\n",
       "      <td>315 m²</td>\n",
       "      <td>4</td>\n",
       "      <td>636 €/m²</td>\n",
       "      <td>3</td>\n",
       "      <td>24</td>\n",
       "      <td>pisos</td>\n",
       "      <td>a_coruna</td>\n",
       "    </tr>\n",
       "  </tbody>\n",
       "</table>\n",
       "</div>"
      ],
      "text/plain": [
       "   Unnamed: 0                             summary description  \\\n",
       "0           0      Casa en calle Urb. Las Mimosas         NaN   \n",
       "1           1                  Piso en Milladoiro         NaN   \n",
       "2           2             Casa en calle La Piedra         NaN   \n",
       "3           3                     Casa en Perillo         NaN   \n",
       "4           4  Chalet en Urbanización Las Mimosas         NaN   \n",
       "\n",
       "                location                                              photo  \\\n",
       "0        Ames (San Tome)  https://fotos4.imghs.net/nrd/1069/104/1069_I00...   \n",
       "1        Ames (San Tome)  https://fotos4.imghs.net/nrd/1069/113/1069_I00...   \n",
       "2  A Ortigueira (Cariño)  https://fotos1.imghs.net/nrd//999170/892070610...   \n",
       "3      Perillo (Oleiros)  https://fotos3.imghs.net/nrd/1089/198/1089_XA2...   \n",
       "4    O Milladoiro (Ames)  https://fotos5.imghs.net/nrd/1097/754/1097_0_f...   \n",
       "\n",
       "   recomendado      price    size rooms    price/m2 bathrooms Num Photos  \\\n",
       "0  Recomendado  250.000 €  315 m²     4    793 €/m²         3         31   \n",
       "1  Recomendado   90.000 €   72 m²     2  1.250 €/m²         1         11   \n",
       "2  Recomendado   50.000 €   92 m²     2    543 €/m²         1         40   \n",
       "3  Recomendado  359.000 €  244 m²     4  1.471 €/m²         3         39   \n",
       "4  Recomendado  200.430 €  315 m²     4    636 €/m²         3         24   \n",
       "\n",
       "    type    region  \n",
       "0  pisos  a_coruna  \n",
       "1  pisos  a_coruna  \n",
       "2  pisos  a_coruna  \n",
       "3  pisos  a_coruna  \n",
       "4  pisos  a_coruna  "
      ]
     },
     "execution_count": 755,
     "metadata": {},
     "output_type": "execute_result"
    }
   ],
   "source": [
    "# Cargar el archivo CSV\n",
    "df = pd.read_csv('pisos.csv')\n",
    "\n",
    "# Mostrar las primeras filas para inspeccionar el dataset\n",
    "df.head()"
   ]
  },
  {
   "cell_type": "markdown",
   "id": "f495263f",
   "metadata": {},
   "source": [
    "### Displaying General Information"
   ]
  },
  {
   "cell_type": "code",
   "execution_count": 756,
   "id": "dffb3a4a",
   "metadata": {},
   "outputs": [
    {
     "name": "stdout",
     "output_type": "stream",
     "text": [
      "<class 'pandas.core.frame.DataFrame'>\n",
      "RangeIndex: 777179 entries, 0 to 777178\n",
      "Data columns (total 14 columns):\n",
      " #   Column       Non-Null Count   Dtype \n",
      "---  ------       --------------   ----- \n",
      " 0   Unnamed: 0   777179 non-null  int64 \n",
      " 1   summary      777179 non-null  object\n",
      " 2   description  760349 non-null  object\n",
      " 3   location     776886 non-null  object\n",
      " 4   photo        776305 non-null  object\n",
      " 5   recomendado  28241 non-null   object\n",
      " 6   price        776898 non-null  object\n",
      " 7   size         776892 non-null  object\n",
      " 8   rooms        752352 non-null  object\n",
      " 9   price/m2     744608 non-null  object\n",
      " 10  bathrooms    752526 non-null  object\n",
      " 11  Num Photos   776898 non-null  object\n",
      " 12  type         776898 non-null  object\n",
      " 13  region       776282 non-null  object\n",
      "dtypes: int64(1), object(13)\n",
      "memory usage: 83.0+ MB\n"
     ]
    }
   ],
   "source": [
    "# Mostrar información general del dataset\n",
    "df.info()"
   ]
  },
  {
   "cell_type": "markdown",
   "id": "580545f8",
   "metadata": {},
   "source": [
    "### Data Cleaning Process\n",
    "#### 1) Remove Unnecessary Columns\n",
    "#### 2) Clean and Convert Price and Size \n",
    "#### 3) Inspecting Changes"
   ]
  },
  {
   "cell_type": "code",
   "execution_count": 757,
   "id": "dd35c07f",
   "metadata": {},
   "outputs": [
    {
     "data": {
      "text/html": [
       "<div>\n",
       "<style scoped>\n",
       "    .dataframe tbody tr th:only-of-type {\n",
       "        vertical-align: middle;\n",
       "    }\n",
       "\n",
       "    .dataframe tbody tr th {\n",
       "        vertical-align: top;\n",
       "    }\n",
       "\n",
       "    .dataframe thead th {\n",
       "        text-align: right;\n",
       "    }\n",
       "</style>\n",
       "<table border=\"1\" class=\"dataframe\">\n",
       "  <thead>\n",
       "    <tr style=\"text-align: right;\">\n",
       "      <th></th>\n",
       "      <th>price</th>\n",
       "      <th>size</th>\n",
       "      <th>rooms</th>\n",
       "      <th>bathrooms</th>\n",
       "      <th>type</th>\n",
       "      <th>region</th>\n",
       "    </tr>\n",
       "  </thead>\n",
       "  <tbody>\n",
       "    <tr>\n",
       "      <th>0</th>\n",
       "      <td>250.00</td>\n",
       "      <td>315.000</td>\n",
       "      <td>4</td>\n",
       "      <td>3</td>\n",
       "      <td>pisos</td>\n",
       "      <td>a_coruna</td>\n",
       "    </tr>\n",
       "    <tr>\n",
       "      <th>1</th>\n",
       "      <td>90.00</td>\n",
       "      <td>72.000</td>\n",
       "      <td>2</td>\n",
       "      <td>1</td>\n",
       "      <td>pisos</td>\n",
       "      <td>a_coruna</td>\n",
       "    </tr>\n",
       "    <tr>\n",
       "      <th>2</th>\n",
       "      <td>50.00</td>\n",
       "      <td>92.000</td>\n",
       "      <td>2</td>\n",
       "      <td>1</td>\n",
       "      <td>pisos</td>\n",
       "      <td>a_coruna</td>\n",
       "    </tr>\n",
       "    <tr>\n",
       "      <th>3</th>\n",
       "      <td>359.00</td>\n",
       "      <td>244.000</td>\n",
       "      <td>4</td>\n",
       "      <td>3</td>\n",
       "      <td>pisos</td>\n",
       "      <td>a_coruna</td>\n",
       "    </tr>\n",
       "    <tr>\n",
       "      <th>4</th>\n",
       "      <td>200.43</td>\n",
       "      <td>315.000</td>\n",
       "      <td>4</td>\n",
       "      <td>3</td>\n",
       "      <td>pisos</td>\n",
       "      <td>a_coruna</td>\n",
       "    </tr>\n",
       "    <tr>\n",
       "      <th>...</th>\n",
       "      <td>...</td>\n",
       "      <td>...</td>\n",
       "      <td>...</td>\n",
       "      <td>...</td>\n",
       "      <td>...</td>\n",
       "      <td>...</td>\n",
       "    </tr>\n",
       "    <tr>\n",
       "      <th>777174</th>\n",
       "      <td>NaN</td>\n",
       "      <td>4.381</td>\n",
       "      <td>NaN</td>\n",
       "      <td>NaN</td>\n",
       "      <td>fincas_rusticas</td>\n",
       "      <td>valles_oriental_sud</td>\n",
       "    </tr>\n",
       "    <tr>\n",
       "      <th>777175</th>\n",
       "      <td>NaN</td>\n",
       "      <td>4.063</td>\n",
       "      <td>NaN</td>\n",
       "      <td>NaN</td>\n",
       "      <td>fincas_rusticas</td>\n",
       "      <td>valles_oriental_sud</td>\n",
       "    </tr>\n",
       "    <tr>\n",
       "      <th>777176</th>\n",
       "      <td>NaN</td>\n",
       "      <td>350.000</td>\n",
       "      <td>5</td>\n",
       "      <td>2.0</td>\n",
       "      <td>fincas_rusticas</td>\n",
       "      <td>valles_oriental_sud</td>\n",
       "    </tr>\n",
       "    <tr>\n",
       "      <th>777177</th>\n",
       "      <td>456.00</td>\n",
       "      <td>202.000</td>\n",
       "      <td>5</td>\n",
       "      <td>3.0</td>\n",
       "      <td>fincas_rusticas</td>\n",
       "      <td>valles_oriental_sud</td>\n",
       "    </tr>\n",
       "    <tr>\n",
       "      <th>777178</th>\n",
       "      <td>155.00</td>\n",
       "      <td>87.000</td>\n",
       "      <td>1</td>\n",
       "      <td>1.0</td>\n",
       "      <td>lofts</td>\n",
       "      <td>valles_oriental_sud</td>\n",
       "    </tr>\n",
       "  </tbody>\n",
       "</table>\n",
       "<p>777179 rows × 6 columns</p>\n",
       "</div>"
      ],
      "text/plain": [
       "         price     size rooms bathrooms             type               region\n",
       "0       250.00  315.000     4         3            pisos             a_coruna\n",
       "1        90.00   72.000     2         1            pisos             a_coruna\n",
       "2        50.00   92.000     2         1            pisos             a_coruna\n",
       "3       359.00  244.000     4         3            pisos             a_coruna\n",
       "4       200.43  315.000     4         3            pisos             a_coruna\n",
       "...        ...      ...   ...       ...              ...                  ...\n",
       "777174     NaN    4.381   NaN       NaN  fincas_rusticas  valles_oriental_sud\n",
       "777175     NaN    4.063   NaN       NaN  fincas_rusticas  valles_oriental_sud\n",
       "777176     NaN  350.000     5       2.0  fincas_rusticas  valles_oriental_sud\n",
       "777177  456.00  202.000     5       3.0  fincas_rusticas  valles_oriental_sud\n",
       "777178  155.00   87.000     1       1.0            lofts  valles_oriental_sud\n",
       "\n",
       "[777179 rows x 6 columns]"
      ]
     },
     "execution_count": 757,
     "metadata": {},
     "output_type": "execute_result"
    }
   ],
   "source": [
    "# Eliminar columnas innecesarias\n",
    "df.drop(columns=['Unnamed: 0', 'location', 'description', 'photo', 'Num Photos', 'recomendado', 'price/m2', 'summary'], inplace=True)\n",
    "\n",
    "# Quitar símbolos \"€ y m²\" en 'price' y 'size' y convertir a numérico\n",
    "df['price'] = pd.to_numeric(df['price'].str.replace('€', '').str.replace(',', ''), errors='coerce')\n",
    "df['size'] = pd.to_numeric(df['size'].str.replace('m²', '').str.replace(',', ''), errors='coerce')\n",
    "\n",
    "# Inspeccionar cambios\n",
    "df\n"
   ]
  },
  {
   "cell_type": "markdown",
   "id": "1feddf37",
   "metadata": {},
   "source": [
    "###  Handling Missing Values (Remove Rows with Null Values)"
   ]
  },
  {
   "cell_type": "code",
   "execution_count": 758,
   "id": "acea5036",
   "metadata": {},
   "outputs": [
    {
     "name": "stdout",
     "output_type": "stream",
     "text": [
      "price        0\n",
      "size         0\n",
      "rooms        0\n",
      "bathrooms    0\n",
      "type         0\n",
      "region       0\n",
      "dtype: int64\n"
     ]
    }
   ],
   "source": [
    "# Eliminar filas con valores nulos\n",
    "df = df.dropna(subset=['price', 'size', 'rooms', 'bathrooms', 'region'])\n",
    "\n",
    "# Verificar si todavía quedan valores faltantes\n",
    "print(df.isnull().sum())"
   ]
  },
  {
   "cell_type": "markdown",
   "id": "d8c034e8",
   "metadata": {},
   "source": [
    "### Converting Columns to Numeric Format"
   ]
  },
  {
   "cell_type": "code",
   "execution_count": 759,
   "id": "4f23d856",
   "metadata": {},
   "outputs": [
    {
     "name": "stderr",
     "output_type": "stream",
     "text": [
      "C:\\Users\\Usuario\\AppData\\Local\\Temp\\ipykernel_21984\\4233683165.py:2: SettingWithCopyWarning: \n",
      "A value is trying to be set on a copy of a slice from a DataFrame.\n",
      "Try using .loc[row_indexer,col_indexer] = value instead\n",
      "\n",
      "See the caveats in the documentation: https://pandas.pydata.org/pandas-docs/stable/user_guide/indexing.html#returning-a-view-versus-a-copy\n",
      "  df['rooms'] = pd.to_numeric(df['rooms'], errors='coerce')\n",
      "C:\\Users\\Usuario\\AppData\\Local\\Temp\\ipykernel_21984\\4233683165.py:3: SettingWithCopyWarning: \n",
      "A value is trying to be set on a copy of a slice from a DataFrame.\n",
      "Try using .loc[row_indexer,col_indexer] = value instead\n",
      "\n",
      "See the caveats in the documentation: https://pandas.pydata.org/pandas-docs/stable/user_guide/indexing.html#returning-a-view-versus-a-copy\n",
      "  df['bathrooms'] = pd.to_numeric(df['bathrooms'], errors='coerce')\n",
      "C:\\Users\\Usuario\\AppData\\Local\\Temp\\ipykernel_21984\\4233683165.py:4: SettingWithCopyWarning: \n",
      "A value is trying to be set on a copy of a slice from a DataFrame.\n",
      "Try using .loc[row_indexer,col_indexer] = value instead\n",
      "\n",
      "See the caveats in the documentation: https://pandas.pydata.org/pandas-docs/stable/user_guide/indexing.html#returning-a-view-versus-a-copy\n",
      "  df['price'] = pd.to_numeric(df['price'], errors='coerce')\n",
      "C:\\Users\\Usuario\\AppData\\Local\\Temp\\ipykernel_21984\\4233683165.py:5: SettingWithCopyWarning: \n",
      "A value is trying to be set on a copy of a slice from a DataFrame.\n",
      "Try using .loc[row_indexer,col_indexer] = value instead\n",
      "\n",
      "See the caveats in the documentation: https://pandas.pydata.org/pandas-docs/stable/user_guide/indexing.html#returning-a-view-versus-a-copy\n",
      "  df['size'] = pd.to_numeric(df['size'], errors='coerce')\n"
     ]
    }
   ],
   "source": [
    "# Convertir las columnas a formato numérico sin usar .loc\n",
    "df['rooms'] = pd.to_numeric(df['rooms'], errors='coerce')\n",
    "df['bathrooms'] = pd.to_numeric(df['bathrooms'], errors='coerce')\n",
    "df['price'] = pd.to_numeric(df['price'], errors='coerce')\n",
    "df['size'] = pd.to_numeric(df['size'], errors='coerce')\n"
   ]
  },
  {
   "cell_type": "markdown",
   "id": "2ce071f5",
   "metadata": {},
   "source": [
    "### Obtaining Unique Values in the 'type' Column"
   ]
  },
  {
   "cell_type": "code",
   "execution_count": 760,
   "id": "f2dee028",
   "metadata": {},
   "outputs": [
    {
     "name": "stdout",
     "output_type": "stream",
     "text": [
      "Valores únicos en 'type':\n",
      "['pisos' 'casas' 'piso' 'aticos' 'duplexs' 'estudios' 'fincas_rusticas'\n",
      " 'lofts']\n"
     ]
    }
   ],
   "source": [
    "# Obtener valores únicos en la columna 'type'\n",
    "unique_types = df['type'].unique()\n",
    "\n",
    "# Imprimir los valores únicos\n",
    "print(\"Valores únicos en 'type':\")\n",
    "print(unique_types)"
   ]
  },
  {
   "cell_type": "markdown",
   "id": "e0176363",
   "metadata": {},
   "source": [
    "### Replacing 'piso' with 'pisos' in the 'type' Column"
   ]
  },
  {
   "cell_type": "code",
   "execution_count": 761,
   "id": "62d65031",
   "metadata": {},
   "outputs": [
    {
     "name": "stdout",
     "output_type": "stream",
     "text": [
      "type\n",
      "pisos              607398\n",
      "casas               87820\n",
      "duplexs             12602\n",
      "aticos              10940\n",
      "fincas_rusticas      4255\n",
      "estudios              553\n",
      "lofts                 419\n",
      "Name: count, dtype: int64\n"
     ]
    },
    {
     "name": "stderr",
     "output_type": "stream",
     "text": [
      "C:\\Users\\Usuario\\AppData\\Local\\Temp\\ipykernel_21984\\1576651671.py:2: SettingWithCopyWarning: \n",
      "A value is trying to be set on a copy of a slice from a DataFrame.\n",
      "Try using .loc[row_indexer,col_indexer] = value instead\n",
      "\n",
      "See the caveats in the documentation: https://pandas.pydata.org/pandas-docs/stable/user_guide/indexing.html#returning-a-view-versus-a-copy\n",
      "  df['type'] = df['type'].replace('piso', 'pisos')\n"
     ]
    }
   ],
   "source": [
    "# Reemplazar 'piso' por 'pisos' en la columna 'type' sin usar .loc\n",
    "df['type'] = df['type'].replace('piso', 'pisos')\n",
    "\n",
    "# Verificar los cambios\n",
    "print(df['type'].value_counts())\n"
   ]
  },
  {
   "cell_type": "markdown",
   "id": "443a6a65",
   "metadata": {},
   "source": [
    "### Removing Outliers from the Dataset\n",
    "\n",
    "#### To ensure the integrity and reliability of the analysis, we calculated the Interquartile Range (IQR) for the numerical columns in the dataset and filtered out the outliers."
   ]
  },
  {
   "cell_type": "code",
   "execution_count": 762,
   "id": "d6e06dc4",
   "metadata": {},
   "outputs": [
    {
     "data": {
      "text/html": [
       "<div>\n",
       "<style scoped>\n",
       "    .dataframe tbody tr th:only-of-type {\n",
       "        vertical-align: middle;\n",
       "    }\n",
       "\n",
       "    .dataframe tbody tr th {\n",
       "        vertical-align: top;\n",
       "    }\n",
       "\n",
       "    .dataframe thead th {\n",
       "        text-align: right;\n",
       "    }\n",
       "</style>\n",
       "<table border=\"1\" class=\"dataframe\">\n",
       "  <thead>\n",
       "    <tr style=\"text-align: right;\">\n",
       "      <th></th>\n",
       "      <th>price</th>\n",
       "      <th>size</th>\n",
       "      <th>rooms</th>\n",
       "      <th>bathrooms</th>\n",
       "      <th>type</th>\n",
       "      <th>region</th>\n",
       "    </tr>\n",
       "  </thead>\n",
       "  <tbody>\n",
       "    <tr>\n",
       "      <th>1</th>\n",
       "      <td>90.0</td>\n",
       "      <td>72.0</td>\n",
       "      <td>2</td>\n",
       "      <td>1.0</td>\n",
       "      <td>pisos</td>\n",
       "      <td>a_coruna</td>\n",
       "    </tr>\n",
       "    <tr>\n",
       "      <th>2</th>\n",
       "      <td>50.0</td>\n",
       "      <td>92.0</td>\n",
       "      <td>2</td>\n",
       "      <td>1.0</td>\n",
       "      <td>pisos</td>\n",
       "      <td>a_coruna</td>\n",
       "    </tr>\n",
       "    <tr>\n",
       "      <th>3</th>\n",
       "      <td>359.0</td>\n",
       "      <td>244.0</td>\n",
       "      <td>4</td>\n",
       "      <td>3.0</td>\n",
       "      <td>pisos</td>\n",
       "      <td>a_coruna</td>\n",
       "    </tr>\n",
       "    <tr>\n",
       "      <th>5</th>\n",
       "      <td>320.0</td>\n",
       "      <td>226.0</td>\n",
       "      <td>4</td>\n",
       "      <td>3.0</td>\n",
       "      <td>pisos</td>\n",
       "      <td>a_coruna</td>\n",
       "    </tr>\n",
       "    <tr>\n",
       "      <th>6</th>\n",
       "      <td>120.0</td>\n",
       "      <td>196.0</td>\n",
       "      <td>5</td>\n",
       "      <td>2.0</td>\n",
       "      <td>pisos</td>\n",
       "      <td>a_coruna</td>\n",
       "    </tr>\n",
       "    <tr>\n",
       "      <th>...</th>\n",
       "      <td>...</td>\n",
       "      <td>...</td>\n",
       "      <td>...</td>\n",
       "      <td>...</td>\n",
       "      <td>...</td>\n",
       "      <td>...</td>\n",
       "    </tr>\n",
       "    <tr>\n",
       "      <th>777159</th>\n",
       "      <td>240.0</td>\n",
       "      <td>3.0</td>\n",
       "      <td>3</td>\n",
       "      <td>2.0</td>\n",
       "      <td>duplexs</td>\n",
       "      <td>valles_oriental_sud</td>\n",
       "    </tr>\n",
       "    <tr>\n",
       "      <th>777160</th>\n",
       "      <td>247.0</td>\n",
       "      <td>121.0</td>\n",
       "      <td>3</td>\n",
       "      <td>2.0</td>\n",
       "      <td>duplexs</td>\n",
       "      <td>valles_oriental_sud</td>\n",
       "    </tr>\n",
       "    <tr>\n",
       "      <th>777161</th>\n",
       "      <td>225.0</td>\n",
       "      <td>5.0</td>\n",
       "      <td>5</td>\n",
       "      <td>3.0</td>\n",
       "      <td>duplexs</td>\n",
       "      <td>valles_oriental_sud</td>\n",
       "    </tr>\n",
       "    <tr>\n",
       "      <th>777177</th>\n",
       "      <td>456.0</td>\n",
       "      <td>202.0</td>\n",
       "      <td>5</td>\n",
       "      <td>3.0</td>\n",
       "      <td>fincas_rusticas</td>\n",
       "      <td>valles_oriental_sud</td>\n",
       "    </tr>\n",
       "    <tr>\n",
       "      <th>777178</th>\n",
       "      <td>155.0</td>\n",
       "      <td>87.0</td>\n",
       "      <td>1</td>\n",
       "      <td>1.0</td>\n",
       "      <td>lofts</td>\n",
       "      <td>valles_oriental_sud</td>\n",
       "    </tr>\n",
       "  </tbody>\n",
       "</table>\n",
       "<p>626643 rows × 6 columns</p>\n",
       "</div>"
      ],
      "text/plain": [
       "        price   size  rooms  bathrooms             type               region\n",
       "1        90.0   72.0      2        1.0            pisos             a_coruna\n",
       "2        50.0   92.0      2        1.0            pisos             a_coruna\n",
       "3       359.0  244.0      4        3.0            pisos             a_coruna\n",
       "5       320.0  226.0      4        3.0            pisos             a_coruna\n",
       "6       120.0  196.0      5        2.0            pisos             a_coruna\n",
       "...       ...    ...    ...        ...              ...                  ...\n",
       "777159  240.0    3.0      3        2.0          duplexs  valles_oriental_sud\n",
       "777160  247.0  121.0      3        2.0          duplexs  valles_oriental_sud\n",
       "777161  225.0    5.0      5        3.0          duplexs  valles_oriental_sud\n",
       "777177  456.0  202.0      5        3.0  fincas_rusticas  valles_oriental_sud\n",
       "777178  155.0   87.0      1        1.0            lofts  valles_oriental_sud\n",
       "\n",
       "[626643 rows x 6 columns]"
      ]
     },
     "execution_count": 762,
     "metadata": {},
     "output_type": "execute_result"
    }
   ],
   "source": [
    "# Calcular los límites para 'size'\n",
    "Q1_size = df['size'].quantile(0.25)\n",
    "Q3_size = df['size'].quantile(0.75)\n",
    "IQR_size = Q3_size - Q1_size\n",
    "lower_bound_size = Q1_size - 1.5 * IQR_size\n",
    "upper_bound_size = Q3_size + 1.5 * IQR_size\n",
    "\n",
    "# Calcular los límites para 'rooms'\n",
    "Q1_rooms = df['rooms'].quantile(0.25)\n",
    "Q3_rooms = df['rooms'].quantile(0.75)\n",
    "IQR_rooms = Q3_rooms - Q1_rooms\n",
    "lower_bound_rooms = Q1_rooms - 1.5 * IQR_rooms\n",
    "upper_bound_rooms = Q3_rooms + 1.5 * IQR_rooms\n",
    "\n",
    "# Calcular los límites para 'bathrooms'\n",
    "Q1_bathrooms = df['bathrooms'].quantile(0.25)\n",
    "Q3_bathrooms = df['bathrooms'].quantile(0.75)\n",
    "IQR_bathrooms = Q3_bathrooms - Q1_bathrooms\n",
    "lower_bound_bathrooms = Q1_bathrooms - 1.5 * IQR_bathrooms\n",
    "upper_bound_bathrooms = Q3_bathrooms + 1.5 * IQR_bathrooms\n",
    "\n",
    "# Calcular los límites para 'price'\n",
    "Q1_price = df['price'].quantile(0.25)\n",
    "Q3_price = df['price'].quantile(0.75)\n",
    "IQR_price = Q3_price - Q1_price\n",
    "lower_bound_price = Q1_price - 1.5 * IQR_price\n",
    "upper_bound_price = Q3_price + 1.5 * IQR_price\n",
    "\n",
    "# Filtrar el DataFrame para eliminar los outliers de todas las columnas\n",
    "df_cleaned_final = df[\n",
    "    (df['size'] >= lower_bound_size) & (df['size'] <= upper_bound_size) &\n",
    "    (df['rooms'] >= lower_bound_rooms) & (df['rooms'] <= upper_bound_rooms) &\n",
    "    (df['bathrooms'] >= lower_bound_bathrooms) & (df['bathrooms'] <= upper_bound_bathrooms) &\n",
    "    (df['price'] >= lower_bound_price) & (df['price'] <= upper_bound_price)\n",
    "]\n",
    "\n",
    "df_cleaned_final\n"
   ]
  },
  {
   "cell_type": "markdown",
   "id": "9fb721dd",
   "metadata": {},
   "source": [
    "### Size Column Data Cleaning\n",
    "\n",
    "In our dataset, we identified and addressed issues related to the `size` column, which represents the size of properties in square meters. The following steps were taken to ensure the data's integrity and relevance:\n",
    "\n",
    "1. **Outlier Removal**: \n",
    "   - We calculated the interquartile range (IQR) for the `size` column to identify outliers. \n",
    "   - Using the 1.5 * IQR rule, we filtered out properties that had a `size` less than the lower bound or greater than the upper bound.\n",
    "\n",
    "2. **Minimum Size Check**:\n",
    "   - Upon further examination, we noticed that there were properties with a size of only 1 square meter, which seemed unusually low. \n",
    "   - To establish a more reasonable threshold, we calculated the minimum common size for the dataset, which was determined to be 45 square meters (5th percentile).\n",
    "\n",
    "3. **Removal of Small Properties**:\n",
    "   - We counted how many properties had a size less than 45 square meters. \n",
    "   - After confirming the number of small properties (1,751 in total), we proceeded to remove these entries from our dataset.\n",
    "\n",
    "4. **Final Verification**:\n",
    "   - Post-removal, we verified that no properties remained with a size less than 45 square meters, ensuring the dataset now contains only relevant and appropriately sized properties.\n",
    "\n",
    "These steps helped us refine the dataset, making it more accurate for subsequent analysis and modeling.\n"
   ]
  },
  {
   "cell_type": "code",
   "execution_count": 763,
   "metadata": {},
   "outputs": [
    {
     "name": "stdout",
     "output_type": "stream",
     "text": [
      "Tamaño mínimo común (5%): 45.0\n"
     ]
    }
   ],
   "source": [
    "min_common_size = df_cleaned_final['size'].quantile(0.05)  # 5% como ejemplo\n",
    "print(f\"Tamaño mínimo común (5%): {min_common_size}\")"
   ]
  },
  {
   "cell_type": "code",
   "execution_count": 764,
   "id": "bc6baceb",
   "metadata": {},
   "outputs": [
    {
     "name": "stdout",
     "output_type": "stream",
     "text": [
      "count    626643.000000\n",
      "mean        108.405955\n",
      "std          53.553643\n",
      "min           1.000000\n",
      "25%          75.000000\n",
      "50%          96.000000\n",
      "75%         130.000000\n",
      "max         283.000000\n",
      "Name: size, dtype: float64\n"
     ]
    }
   ],
   "source": [
    "# Resumen estadístico de la columna 'size'\n",
    "print(df_cleaned_final['size'].describe())\n"
   ]
  },
  {
   "cell_type": "code",
   "execution_count": 765,
   "id": "5b3379db",
   "metadata": {},
   "outputs": [
    {
     "name": "stdout",
     "output_type": "stream",
     "text": [
      "        price  size  rooms  bathrooms   type                     region\n",
      "102      85.0   1.0      1        1.0  pisos                   a_coruna\n",
      "562     370.0   1.0      4        3.0  pisos                   a_coruna\n",
      "2829    125.0   1.0      1        1.0  pisos                alava_araba\n",
      "2993    340.0   1.0      1        1.0  pisos                alava_araba\n",
      "3922    118.0   1.0      1        1.0  pisos                alava_araba\n",
      "...       ...   ...    ...        ...    ...                        ...\n",
      "761908  354.0   1.0      4        3.0  casas     valles_occidental_nord\n",
      "763998  235.0   1.0      3        2.0  casas      valles_occidental_sud\n",
      "768988  420.0   1.0      3        2.0  pisos          caldes_de_montbui\n",
      "772264  420.0   1.0      3        2.0  casas            valles_oriental\n",
      "775161  420.0   1.0      3        2.0  casas  valles_oriental_nord_oest\n",
      "\n",
      "[1751 rows x 6 columns]\n"
     ]
    }
   ],
   "source": [
    "# Filtrar propiedades con size igual a 1\n",
    "one_square_meter_properties = df_cleaned_final[df_cleaned_final['size'] == 1]\n",
    "print(one_square_meter_properties)\n"
   ]
  },
  {
   "cell_type": "code",
   "execution_count": 766,
   "id": "f4832cb9",
   "metadata": {},
   "outputs": [
    {
     "name": "stdout",
     "output_type": "stream",
     "text": [
      "Tamaño mínimo común (5%): 45.0\n"
     ]
    }
   ],
   "source": [
    "min_common_size = df_cleaned_final['size'].quantile(0.05)  # 5% como ejemplo\n",
    "print(f\"Tamaño mínimo común (5%): {min_common_size}\")"
   ]
  },
  {
   "cell_type": "code",
   "execution_count": 767,
   "id": "3df8f144",
   "metadata": {},
   "outputs": [
    {
     "name": "stdout",
     "output_type": "stream",
     "text": [
      "Número de viviendas con tamaño menor a 45.0 m²: 30361\n"
     ]
    }
   ],
   "source": [
    "# Contar cuántas viviendas tienen un tamaño menor al tamaño mínimo común\n",
    "num_small_properties = df_cleaned_final[df_cleaned_final['size'] < 45.0].shape[0]\n",
    "print(f\"Número de viviendas con tamaño menor a 45.0 m²: {num_small_properties}\")\n"
   ]
  },
  {
   "cell_type": "code",
   "execution_count": 768,
   "id": "be276269",
   "metadata": {},
   "outputs": [
    {
     "name": "stdout",
     "output_type": "stream",
     "text": [
      "Número de viviendas restantes después de eliminar las pequeñas: 596282\n"
     ]
    }
   ],
   "source": [
    "# Eliminar viviendas con tamaño menor a 45.0 m²\n",
    "df_cleaned_final = df_cleaned_final[df_cleaned_final['size'] >= 45.0]\n",
    "\n",
    "# Contar cuántas viviendas quedan después de la eliminación\n",
    "num_remaining_properties = df_cleaned_final.shape[0]\n",
    "print(f\"Número de viviendas restantes después de eliminar las pequeñas: {num_remaining_properties}\")\n"
   ]
  },
  {
   "cell_type": "markdown",
   "id": "5a01e2d0",
   "metadata": {},
   "source": [
    "### Steps to Ensure the Integrity of the `price` Column\n",
    "\n",
    "1. **Outlier Removal**:\n",
    "   - We calculated the interquartile range (IQR) for the `price` column to identify outliers.\n",
    "   - Using the 1.5 * IQR rule, we filtered out properties with prices below the lower bound or above the upper bound, thereby removing anomalous prices.\n",
    "\n",
    "2. **Minimum Price Check**:\n",
    "   - Upon further examination, we noticed properties with extremely low prices, such as 7.500 euros, which seemed unusual.\n",
    "   - To establish a more reasonable threshold, we calculated the minimum common price for the dataset (the 5th percentile of prices).\n",
    "\n",
    "3. **Removal of Low-Priced Properties**:\n",
    "   - After confirming the number of low-priced properties, we proceeded to remove these entries from our dataset.\n",
    "\n",
    "4. **Final Verification**:\n",
    "   - Post-removal, ensuring that the dataset now contains only relevant and appropriately priced properties.\n",
    "\n",
    "These steps helped us refine the dataset, making it more accurate for subsequent analysis and modeling.\n"
   ]
  },
  {
   "cell_type": "code",
   "execution_count": 769,
   "id": "0ea01463",
   "metadata": {},
   "outputs": [
    {
     "name": "stdout",
     "output_type": "stream",
     "text": [
      "count    596282.000000\n",
      "mean        159.076820\n",
      "std          96.453586\n",
      "min           7.500000\n",
      "25%          85.000000\n",
      "50%         136.000000\n",
      "75%         209.900000\n",
      "max         490.000000\n",
      "Name: price, dtype: float64\n"
     ]
    }
   ],
   "source": [
    "# Obtener estadísticas descriptivas para 'price'\n",
    "price_description = df_cleaned_final['price'].describe()\n",
    "print(price_description)\n"
   ]
  },
  {
   "cell_type": "code",
   "execution_count": 770,
   "id": "b014daba",
   "metadata": {},
   "outputs": [
    {
     "name": "stdout",
     "output_type": "stream",
     "text": [
      "type\n",
      "aticos             76.000\n",
      "casas              48.000\n",
      "duplexs            75.652\n",
      "estudios           46.000\n",
      "fincas_rusticas    39.480\n",
      "lofts              67.650\n",
      "pisos              44.000\n",
      "Name: price, dtype: float64\n"
     ]
    }
   ],
   "source": [
    "# Calcular el percentil 5 de precios por tipo de propiedad\n",
    "min_price_common = df_cleaned_final.groupby('type')['price'].quantile(0.05)\n",
    "print(min_price_common)\n"
   ]
  },
  {
   "cell_type": "code",
   "execution_count": 771,
   "id": "43a772e0",
   "metadata": {},
   "outputs": [
    {
     "data": {
      "text/html": [
       "<div>\n",
       "<style scoped>\n",
       "    .dataframe tbody tr th:only-of-type {\n",
       "        vertical-align: middle;\n",
       "    }\n",
       "\n",
       "    .dataframe tbody tr th {\n",
       "        vertical-align: top;\n",
       "    }\n",
       "\n",
       "    .dataframe thead th {\n",
       "        text-align: right;\n",
       "    }\n",
       "</style>\n",
       "<table border=\"1\" class=\"dataframe\">\n",
       "  <thead>\n",
       "    <tr style=\"text-align: right;\">\n",
       "      <th></th>\n",
       "      <th>price</th>\n",
       "      <th>size</th>\n",
       "      <th>rooms</th>\n",
       "      <th>bathrooms</th>\n",
       "      <th>type</th>\n",
       "      <th>region</th>\n",
       "    </tr>\n",
       "  </thead>\n",
       "  <tbody>\n",
       "    <tr>\n",
       "      <th>69</th>\n",
       "      <td>31.5</td>\n",
       "      <td>69.0</td>\n",
       "      <td>3</td>\n",
       "      <td>1.0</td>\n",
       "      <td>pisos</td>\n",
       "      <td>a_coruna</td>\n",
       "    </tr>\n",
       "    <tr>\n",
       "      <th>277</th>\n",
       "      <td>43.5</td>\n",
       "      <td>87.0</td>\n",
       "      <td>3</td>\n",
       "      <td>2.0</td>\n",
       "      <td>pisos</td>\n",
       "      <td>a_coruna</td>\n",
       "    </tr>\n",
       "    <tr>\n",
       "      <th>292</th>\n",
       "      <td>30.0</td>\n",
       "      <td>110.0</td>\n",
       "      <td>3</td>\n",
       "      <td>2.0</td>\n",
       "      <td>pisos</td>\n",
       "      <td>a_coruna</td>\n",
       "    </tr>\n",
       "    <tr>\n",
       "      <th>345</th>\n",
       "      <td>43.7</td>\n",
       "      <td>51.0</td>\n",
       "      <td>2</td>\n",
       "      <td>1.0</td>\n",
       "      <td>pisos</td>\n",
       "      <td>a_coruna</td>\n",
       "    </tr>\n",
       "    <tr>\n",
       "      <th>358</th>\n",
       "      <td>43.0</td>\n",
       "      <td>84.0</td>\n",
       "      <td>1</td>\n",
       "      <td>1.0</td>\n",
       "      <td>pisos</td>\n",
       "      <td>a_coruna</td>\n",
       "    </tr>\n",
       "    <tr>\n",
       "      <th>...</th>\n",
       "      <td>...</td>\n",
       "      <td>...</td>\n",
       "      <td>...</td>\n",
       "      <td>...</td>\n",
       "      <td>...</td>\n",
       "      <td>...</td>\n",
       "    </tr>\n",
       "    <tr>\n",
       "      <th>770689</th>\n",
       "      <td>41.8</td>\n",
       "      <td>58.0</td>\n",
       "      <td>2</td>\n",
       "      <td>1.0</td>\n",
       "      <td>pisos</td>\n",
       "      <td>montornes_del_valles</td>\n",
       "    </tr>\n",
       "    <tr>\n",
       "      <th>773417</th>\n",
       "      <td>41.8</td>\n",
       "      <td>58.0</td>\n",
       "      <td>2</td>\n",
       "      <td>1.0</td>\n",
       "      <td>pisos</td>\n",
       "      <td>valles_oriental</td>\n",
       "    </tr>\n",
       "    <tr>\n",
       "      <th>773743</th>\n",
       "      <td>41.8</td>\n",
       "      <td>58.0</td>\n",
       "      <td>2</td>\n",
       "      <td>1.0</td>\n",
       "      <td>pisos</td>\n",
       "      <td>valles_oriental</td>\n",
       "    </tr>\n",
       "    <tr>\n",
       "      <th>776599</th>\n",
       "      <td>41.8</td>\n",
       "      <td>58.0</td>\n",
       "      <td>2</td>\n",
       "      <td>1.0</td>\n",
       "      <td>pisos</td>\n",
       "      <td>valles_oriental_sud</td>\n",
       "    </tr>\n",
       "    <tr>\n",
       "      <th>776822</th>\n",
       "      <td>41.8</td>\n",
       "      <td>58.0</td>\n",
       "      <td>2</td>\n",
       "      <td>1.0</td>\n",
       "      <td>pisos</td>\n",
       "      <td>valles_oriental_sud</td>\n",
       "    </tr>\n",
       "  </tbody>\n",
       "</table>\n",
       "<p>29335 rows × 6 columns</p>\n",
       "</div>"
      ],
      "text/plain": [
       "        price   size  rooms  bathrooms   type                region\n",
       "69       31.5   69.0      3        1.0  pisos              a_coruna\n",
       "277      43.5   87.0      3        2.0  pisos              a_coruna\n",
       "292      30.0  110.0      3        2.0  pisos              a_coruna\n",
       "345      43.7   51.0      2        1.0  pisos              a_coruna\n",
       "358      43.0   84.0      1        1.0  pisos              a_coruna\n",
       "...       ...    ...    ...        ...    ...                   ...\n",
       "770689   41.8   58.0      2        1.0  pisos  montornes_del_valles\n",
       "773417   41.8   58.0      2        1.0  pisos       valles_oriental\n",
       "773743   41.8   58.0      2        1.0  pisos       valles_oriental\n",
       "776599   41.8   58.0      2        1.0  pisos   valles_oriental_sud\n",
       "776822   41.8   58.0      2        1.0  pisos   valles_oriental_sud\n",
       "\n",
       "[29335 rows x 6 columns]"
      ]
     },
     "execution_count": 771,
     "metadata": {},
     "output_type": "execute_result"
    }
   ],
   "source": [
    "# Definir los precios mínimos comunes para cada tipo de propiedad\n",
    "min_prices = {\n",
    "    'aticos': 76.0,\n",
    "    'casas': 48.0,\n",
    "    'duplexs': 75.652,\n",
    "    'estudios': 46.0,\n",
    "    'fincas_rusticas': 39.480,\n",
    "    'lofts': 67.650,\n",
    "    'pisos': 44.0\n",
    "}\n",
    "# Filtrar propiedades con precios por debajo del mínimo común\n",
    "df_below_min_price = df_cleaned_final[df_cleaned_final.apply(\n",
    "    lambda row: row['price'] < min_prices.get(row['type'], float('inf')), axis=1)]\n",
    "\n",
    "# Mostrar las propiedades con precios bajos\n",
    "df_below_min_price\n"
   ]
  },
  {
   "cell_type": "code",
   "execution_count": 772,
   "id": "d8981407",
   "metadata": {},
   "outputs": [],
   "source": [
    "# Eliminar propiedades con precios por debajo del mínimo común\n",
    "df_cleaned_final = df_cleaned_final[df_cleaned_final.apply(\n",
    "    lambda row: row['price'] >= min_prices.get(row['type'], float('inf')), axis=1)]\n"
   ]
  },
  {
   "cell_type": "code",
   "execution_count": 773,
   "id": "35e9dddc",
   "metadata": {},
   "outputs": [
    {
     "data": {
      "text/plain": [
       "(566947, 6)"
      ]
     },
     "execution_count": 773,
     "metadata": {},
     "output_type": "execute_result"
    }
   ],
   "source": [
    "df_cleaned_final.shape"
   ]
  },
  {
   "cell_type": "markdown",
   "id": "5d31c2a5",
   "metadata": {},
   "source": [
    "### Media y Mediana de Precio por Tipo de Propiedad"
   ]
  },
  {
   "cell_type": "code",
   "execution_count": 774,
   "id": "6b8061b0",
   "metadata": {},
   "outputs": [
    {
     "data": {
      "image/png": "[encoded data removed]",
      "text/plain": [
       "<Figure size 1200x600 with 1 Axes>"
      ]
     },
     "metadata": {},
     "output_type": "display_data"
    }
   ],
   "source": [
    "\n",
    "\n",
    "# Calcular la media y la mediana del precio por tipo de propiedad\n",
    "price_stats = df_cleaned_final.groupby('type')['price'].agg(['mean', 'median']).reset_index()\n",
    "\n",
    "# Crear un gráfico de barras\n",
    "plt.figure(figsize=(12, 6))\n",
    "sns.barplot(data=price_stats.melt(id_vars='type'), x='type', y='value', hue='variable')\n",
    "plt.title('Media y Mediana del Precio por Tipo de Propiedad')\n",
    "plt.xlabel('Tipo de Propiedad')\n",
    "plt.ylabel('Precio (€)')\n",
    "plt.xticks(rotation=45)\n",
    "plt.legend(title='Estadística', labels=['Media', 'Mediana'])\n",
    "plt.show()\n"
   ]
  },
  {
   "cell_type": "code",
   "execution_count": 775,
   "id": "f4540f20",
   "metadata": {},
   "outputs": [
    {
     "data": {
      "image/png": "[encoded data removed]",
      "text/plain": [
       "<Figure size 1200x600 with 1 Axes>"
      ]
     },
     "metadata": {},
     "output_type": "display_data"
    }
   ],
   "source": [
    "plt.figure(figsize=(12, 6))\n",
    "sns.boxplot(data=df_cleaned_final, x='type', y='price')\n",
    "plt.title('Distribución del Precio por Tipo de Propiedad')\n",
    "plt.xlabel('Tipo de Propiedad')\n",
    "plt.ylabel('Precio (€)')\n",
    "plt.xticks(rotation=45)\n",
    "plt.show()\n"
   ]
  },
  {
   "cell_type": "code",
   "execution_count": 776,
   "id": "a2cf6152",
   "metadata": {},
   "outputs": [
    {
     "name": "stderr",
     "output_type": "stream",
     "text": [
      "C:\\Users\\Usuario\\AppData\\Local\\Temp\\ipykernel_21984\\3314408954.py:10: FutureWarning: \n",
      "\n",
      "Passing `palette` without assigning `hue` is deprecated and will be removed in v0.14.0. Assign the `y` variable to `hue` and set `legend=False` for the same effect.\n",
      "\n",
      "  sns.barplot(data=type_counts_df, x='Cantidad', y='Tipo de Propiedad', palette='viridis')\n"
     ]
    },
    {
     "data": {
      "image/png": "[encoded data removed]",
      "text/plain": [
       "<Figure size 1000x600 with 1 Axes>"
      ]
     },
     "metadata": {},
     "output_type": "display_data"
    }
   ],
   "source": [
    "# Calcular el conteo de cada tipo de propiedad\n",
    "type_counts = df_cleaned_final['type'].value_counts()\n",
    "\n",
    "# Crear un DataFrame para facilitar la visualización\n",
    "type_counts_df = type_counts.reset_index()\n",
    "type_counts_df.columns = ['Tipo de Propiedad', 'Cantidad']\n",
    "\n",
    "# Crear un gráfico de barras\n",
    "plt.figure(figsize=(10, 6))\n",
    "sns.barplot(data=type_counts_df, x='Cantidad', y='Tipo de Propiedad', palette='viridis')\n",
    "plt.title('Proporción de Tipos de Propiedades')\n",
    "plt.xlabel('Cantidad')\n",
    "plt.ylabel('Tipo de Propiedad')\n",
    "plt.show()\n"
   ]
  },
  {
   "cell_type": "markdown",
   "id": "a47d3906",
   "metadata": {},
   "source": [
    "### The correlation matrix (shows the correlation between various numerical features)."
   ]
  },
  {
   "cell_type": "code",
   "execution_count": 777,
   "id": "c9879e45",
   "metadata": {},
   "outputs": [
    {
     "data": {
      "image/png": "[encoded data removed]",
      "text/plain": [
       "<Figure size 1200x800 with 2 Axes>"
      ]
     },
     "metadata": {},
     "output_type": "display_data"
    }
   ],
   "source": [
    "# Filtrar solo columnas numéricas\n",
    "numeric_df = df_cleaned_final.select_dtypes(include='number')\n",
    "\n",
    "# Calcular la matriz de correlación\n",
    "correlation_matrix = numeric_df.corr()\n",
    "\n",
    "# Configurar el tamaño del gráfico\n",
    "plt.figure(figsize=(12, 8))\n",
    "\n",
    "# Crear un mapa de calor\n",
    "sns.heatmap(correlation_matrix, annot=True, fmt=\".2f\", cmap='coolwarm', square=True, \n",
    "            cbar_kws={\"shrink\": .8})\n",
    "\n",
    "# Añadir un título\n",
    "plt.title('Matriz de Correlación', fontsize=16)\n",
    "plt.show()\n"
   ]
  },
  {
   "cell_type": "markdown",
   "id": "c3b12651",
   "metadata": {},
   "source": [
    "### Perform Train Test Split"
   ]
  },
  {
   "cell_type": "markdown",
   "id": "46815601",
   "metadata": {},
   "source": [
    "### Linear Regression Model for Price Prediction\n",
    "\n",
    "#### In this section, we defined the features and target variable, preprocessed the data, trained a linear regression model, and evaluated its performance."
   ]
  },
  {
   "cell_type": "code",
   "execution_count": 778,
   "id": "60056944",
   "metadata": {},
   "outputs": [
    {
     "name": "stdout",
     "output_type": "stream",
     "text": [
      "Error cuadrático medio (MSE): 4249.23\n",
      "R² score del modelo en el conjunto de prueba: 0.5251\n"
     ]
    }
   ],
   "source": [
    "# Definir características (features) y variable objetivo (target)\n",
    "X = df_cleaned_final[['size', 'rooms', 'bathrooms', 'type', 'region']]\n",
    "y = df_cleaned_final['price']  # La variable objetivo\n",
    "\n",
    "# Preprocesar características categóricas y escalar numéricas\n",
    "preprocessor = ColumnTransformer(\n",
    "    transformers=[\n",
    "        ('num', StandardScaler(), ['size', 'rooms', 'bathrooms']),  # Escalar columnas numéricas\n",
    "        ('cat', OneHotEncoder(handle_unknown='ignore'), ['type', 'region'])  # One-Hot-Encoding para columnas categóricas\n",
    "    ],\n",
    "    remainder='passthrough'  # No eliminar otras columnas si las hay\n",
    ")\n",
    "\n",
    "# Crear un pipeline que primero preprocesa y luego ajusta el modelo\n",
    "model = Pipeline(steps=[\n",
    "    ('preprocessor', preprocessor),\n",
    "    ('regressor', LinearRegression())\n",
    "])\n",
    "\n",
    "# Dividir el dataset en conjunto de entrenamiento y prueba\n",
    "X_train, X_test, y_train, y_test = train_test_split(X, y, test_size=0.2, random_state=42)\n",
    "\n",
    "# Ajustar el modelo a los datos de entrenamiento\n",
    "model.fit(X_train, y_train)\n",
    "\n",
    "# Realizar predicciones en el conjunto de prueba\n",
    "y_pred = model.predict(X_test)\n",
    "\n",
    "# Evaluar el rendimiento del modelo\n",
    "mse = mean_squared_error(y_test, y_pred)\n",
    "r2 = r2_score(y_test, y_pred)\n",
    "\n",
    "print(f\"Error cuadrático medio (MSE): {mse:.2f}\")\n",
    "print(f\"R² score del modelo en el conjunto de prueba: {r2:.4f}\")\n"
   ]
  },
  {
   "cell_type": "code",
   "execution_count": 779,
   "id": "001adba2",
   "metadata": {},
   "outputs": [
    {
     "name": "stdout",
     "output_type": "stream",
     "text": [
      "Error cuadrático medio (MSE): 4249.23\n",
      "Error absoluto medio (MAE): 48.86\n",
      "Raíz del error cuadrático medio (RMSE): 65.19\n",
      "R² score del modelo en el conjunto de prueba: 0.5251\n"
     ]
    }
   ],
   "source": [
    "from sklearn.metrics import mean_absolute_error\n",
    "\n",
    "# Evaluar el rendimiento del modelo\n",
    "mse = mean_squared_error(y_test, y_pred)\n",
    "mae = mean_absolute_error(y_test, y_pred)\n",
    "rmse = np.sqrt(mse)  # RMSE es simplemente la raíz cuadrada del MSE\n",
    "r2 = r2_score(y_test, y_pred)\n",
    "\n",
    "print(f\"Error cuadrático medio (MSE): {mse:.2f}\")\n",
    "print(f\"Error absoluto medio (MAE): {mae:.2f}\")\n",
    "print(f\"Raíz del error cuadrático medio (RMSE): {rmse:.2f}\")\n",
    "print(f\"R² score del modelo en el conjunto de prueba: {r2:.4f}\")\n"
   ]
  },
  {
   "cell_type": "code",
   "execution_count": 780,
   "id": "30df7c8c",
   "metadata": {},
   "outputs": [
    {
     "data": {
      "image/png": "[encoded data removed]",
      "text/plain": [
       "<Figure size 640x480 with 1 Axes>"
      ]
     },
     "metadata": {},
     "output_type": "display_data"
    }
   ],
   "source": [
    "import matplotlib.pyplot as plt\n",
    "\n",
    "# Gráfica de predicciones vs valores reales\n",
    "plt.scatter(y_test, y_pred)\n",
    "plt.xlabel('Valores reales')\n",
    "plt.ylabel('Predicciones')\n",
    "plt.title('Predicciones vs Valores Reales')\n",
    "plt.plot([min(y_test), max(y_test)], [min(y_test), max(y_test)], color='red', linestyle='--')  # Línea de referencia\n",
    "plt.show()\n"
   ]
  },
  {
   "cell_type": "code",
   "execution_count": null,
   "id": "55251549",
   "metadata": {},
   "outputs": [],
   "source": [
    "import pandas as pd\n",
    "from sklearn.model_selection import train_test_split\n",
    "from sklearn.ensemble import RandomForestRegressor\n",
    "from sklearn.preprocessing import OneHotEncoder\n",
    "from sklearn.compose import ColumnTransformer\n",
    "from sklearn.pipeline import Pipeline\n",
    "\n",
    "# Suponiendo que tienes tu DataFrame llamado df\n",
    "X = df.drop('price', axis=1)  # Las características\n",
    "y = df['price']  # La variable objetivo\n",
    "\n",
    "# Dividir los datos en conjunto de entrenamiento y prueba\n",
    "X_train, X_test, y_train, y_test = train_test_split(X, y, test_size=0.2, random_state=42)\n",
    "\n",
    "# Crear un transformador para las variables categóricas\n",
    "column_transformer = ColumnTransformer(\n",
    "    transformers=[\n",
    "        ('onehot', OneHotEncoder(), ['type', 'region'])  # Codificar 'type' y 'region'\n",
    "    ],\n",
    "    remainder='passthrough'  # Mantener las otras columnas sin cambios\n",
    ")\n",
    "\n",
    "# Crear un pipeline con el transformador y el modelo\n",
    "pipeline = Pipeline(steps=[\n",
    "    ('preprocessor', column_transformer),\n",
    "    ('regressor', RandomForestRegressor(n_estimators=100, random_state=42))\n",
    "])\n",
    "\n",
    "# Ajustar el modelo a los datos de entrenamiento\n",
    "pipeline.fit(X_train, y_train)\n",
    "\n",
    "# Realizar predicciones en el conjunto de prueba\n",
    "y_pred_rf = pipeline.predict(X_test)\n",
    "\n",
    "# Calcular errores\n",
    "from sklearn.metrics import mean_squared_error, mean_absolute_error, r2_score\n",
    "\n",
    "mse = mean_squared_error(y_test, y_pred_rf)\n",
    "mae = mean_absolute_error(y_test, y_pred_rf)\n",
    "rmse = mse ** 0.5\n",
    "r2 = r2_score(y_test, y_pred_rf)\n",
    "\n",
    "print(f\"Error cuadrático medio (MSE): {mse:.2f}\")\n",
    "print(f\"Error absoluto medio (MAE): {mae:.2f}\")\n",
    "print(f\"Raíz del error cuadrático medio (RMSE): {rmse:.2f}\")\n",
    "print(f\"R² score del modelo en el conjunto de prueba: {r2:.4f}\")\n"
   ]
  }
 ],
 "metadata": {
  "kernelspec": {
   "display_name": "base",
   "language": "python",
   "name": "python3"
  },
  "language_info": {
   "codemirror_mode": {
    "name": "ipython",
    "version": 3
   },
   "file_extension": ".py",
   "mimetype": "text/x-python",
   "name": "python",
   "nbconvert_exporter": "python",
   "pygments_lexer": "ipython3",
   "version": "3.12.4"
  }
 },
 "nbformat": 4,
 "nbformat_minor": 5
}
