{
 "cells": [
  {
   "cell_type": "markdown",
   "id": "e520117b",
   "metadata": {},
   "source": [
    "### PENDIENTE\n",
    "### Cambiar csv por el enlace \n",
    "### Comentar cada paso (argumentando lo que hacemos)\n",
    "### Precio total o precio por metro cuadrado - cual es el mejor para el proyecto?"
   ]
  },
  {
   "cell_type": "code",
   "execution_count": 370,
   "id": "6fb74d6b",
   "metadata": {},
   "outputs": [],
   "source": [
    "import pandas as pd\n",
    "from sklearn.model_selection import train_test_split\n",
    "from sklearn.linear_model import LinearRegression\n",
    "from sklearn.metrics import mean_squared_error, r2_score\n",
    "from sklearn.preprocessing import OneHotEncoder, StandardScaler\n",
    "from sklearn.compose import ColumnTransformer\n",
    "from sklearn.pipeline import Pipeline\n",
    "from sklearn.neighbors import KNeighborsRegressor\n",
    "from sklearn.model_selection import GridSearchCV, train_test_split\n"
   ]
  },
  {
   "cell_type": "code",
   "execution_count": 371,
   "id": "2ba5e9ff",
   "metadata": {},
   "outputs": [
    {
     "name": "stderr",
     "output_type": "stream",
     "text": [
      "C:\\Users\\Usuario\\AppData\\Local\\Temp\\ipykernel_204172\\402079931.py:2: DtypeWarning: Columns (10) have mixed types. Specify dtype option on import or set low_memory=False.\n",
      "  df = pd.read_csv('pisos.csv')\n"
     ]
    },
    {
     "data": {
      "text/html": [
       "<div>\n",
       "<style scoped>\n",
       "    .dataframe tbody tr th:only-of-type {\n",
       "        vertical-align: middle;\n",
       "    }\n",
       "\n",
       "    .dataframe tbody tr th {\n",
       "        vertical-align: top;\n",
       "    }\n",
       "\n",
       "    .dataframe thead th {\n",
       "        text-align: right;\n",
       "    }\n",
       "</style>\n",
       "<table border=\"1\" class=\"dataframe\">\n",
       "  <thead>\n",
       "    <tr style=\"text-align: right;\">\n",
       "      <th></th>\n",
       "      <th>Unnamed: 0</th>\n",
       "      <th>summary</th>\n",
       "      <th>description</th>\n",
       "      <th>location</th>\n",
       "      <th>photo</th>\n",
       "      <th>recomendado</th>\n",
       "      <th>price</th>\n",
       "      <th>size</th>\n",
       "      <th>rooms</th>\n",
       "      <th>price/m2</th>\n",
       "      <th>bathrooms</th>\n",
       "      <th>Num Photos</th>\n",
       "      <th>type</th>\n",
       "      <th>region</th>\n",
       "    </tr>\n",
       "  </thead>\n",
       "  <tbody>\n",
       "    <tr>\n",
       "      <th>0</th>\n",
       "      <td>0</td>\n",
       "      <td>Casa en calle Urb. Las Mimosas</td>\n",
       "      <td>NaN</td>\n",
       "      <td>Ames (San Tome)</td>\n",
       "      <td>https://fotos4.imghs.net/nrd/1069/104/1069_I00...</td>\n",
       "      <td>Recomendado</td>\n",
       "      <td>250.000 €</td>\n",
       "      <td>315 m²</td>\n",
       "      <td>4</td>\n",
       "      <td>793 €/m²</td>\n",
       "      <td>3</td>\n",
       "      <td>31</td>\n",
       "      <td>pisos</td>\n",
       "      <td>a_coruna</td>\n",
       "    </tr>\n",
       "    <tr>\n",
       "      <th>1</th>\n",
       "      <td>1</td>\n",
       "      <td>Piso en Milladoiro</td>\n",
       "      <td>NaN</td>\n",
       "      <td>Ames (San Tome)</td>\n",
       "      <td>https://fotos4.imghs.net/nrd/1069/113/1069_I00...</td>\n",
       "      <td>Recomendado</td>\n",
       "      <td>90.000 €</td>\n",
       "      <td>72 m²</td>\n",
       "      <td>2</td>\n",
       "      <td>1.250 €/m²</td>\n",
       "      <td>1</td>\n",
       "      <td>11</td>\n",
       "      <td>pisos</td>\n",
       "      <td>a_coruna</td>\n",
       "    </tr>\n",
       "    <tr>\n",
       "      <th>2</th>\n",
       "      <td>2</td>\n",
       "      <td>Casa en calle La Piedra</td>\n",
       "      <td>NaN</td>\n",
       "      <td>A Ortigueira (Cariño)</td>\n",
       "      <td>https://fotos1.imghs.net/nrd//999170/892070610...</td>\n",
       "      <td>Recomendado</td>\n",
       "      <td>50.000 €</td>\n",
       "      <td>92 m²</td>\n",
       "      <td>2</td>\n",
       "      <td>543 €/m²</td>\n",
       "      <td>1</td>\n",
       "      <td>40</td>\n",
       "      <td>pisos</td>\n",
       "      <td>a_coruna</td>\n",
       "    </tr>\n",
       "    <tr>\n",
       "      <th>3</th>\n",
       "      <td>3</td>\n",
       "      <td>Casa en Perillo</td>\n",
       "      <td>NaN</td>\n",
       "      <td>Perillo (Oleiros)</td>\n",
       "      <td>https://fotos3.imghs.net/nrd/1089/198/1089_XA2...</td>\n",
       "      <td>Recomendado</td>\n",
       "      <td>359.000 €</td>\n",
       "      <td>244 m²</td>\n",
       "      <td>4</td>\n",
       "      <td>1.471 €/m²</td>\n",
       "      <td>3</td>\n",
       "      <td>39</td>\n",
       "      <td>pisos</td>\n",
       "      <td>a_coruna</td>\n",
       "    </tr>\n",
       "    <tr>\n",
       "      <th>4</th>\n",
       "      <td>4</td>\n",
       "      <td>Chalet en Urbanización Las Mimosas</td>\n",
       "      <td>NaN</td>\n",
       "      <td>O Milladoiro (Ames)</td>\n",
       "      <td>https://fotos5.imghs.net/nrd/1097/754/1097_0_f...</td>\n",
       "      <td>Recomendado</td>\n",
       "      <td>200.430 €</td>\n",
       "      <td>315 m²</td>\n",
       "      <td>4</td>\n",
       "      <td>636 €/m²</td>\n",
       "      <td>3</td>\n",
       "      <td>24</td>\n",
       "      <td>pisos</td>\n",
       "      <td>a_coruna</td>\n",
       "    </tr>\n",
       "  </tbody>\n",
       "</table>\n",
       "</div>"
      ],
      "text/plain": [
       "   Unnamed: 0                             summary description  \\\n",
       "0           0      Casa en calle Urb. Las Mimosas         NaN   \n",
       "1           1                  Piso en Milladoiro         NaN   \n",
       "2           2             Casa en calle La Piedra         NaN   \n",
       "3           3                     Casa en Perillo         NaN   \n",
       "4           4  Chalet en Urbanización Las Mimosas         NaN   \n",
       "\n",
       "                location                                              photo  \\\n",
       "0        Ames (San Tome)  https://fotos4.imghs.net/nrd/1069/104/1069_I00...   \n",
       "1        Ames (San Tome)  https://fotos4.imghs.net/nrd/1069/113/1069_I00...   \n",
       "2  A Ortigueira (Cariño)  https://fotos1.imghs.net/nrd//999170/892070610...   \n",
       "3      Perillo (Oleiros)  https://fotos3.imghs.net/nrd/1089/198/1089_XA2...   \n",
       "4    O Milladoiro (Ames)  https://fotos5.imghs.net/nrd/1097/754/1097_0_f...   \n",
       "\n",
       "   recomendado      price    size rooms    price/m2 bathrooms Num Photos  \\\n",
       "0  Recomendado  250.000 €  315 m²     4    793 €/m²         3         31   \n",
       "1  Recomendado   90.000 €   72 m²     2  1.250 €/m²         1         11   \n",
       "2  Recomendado   50.000 €   92 m²     2    543 €/m²         1         40   \n",
       "3  Recomendado  359.000 €  244 m²     4  1.471 €/m²         3         39   \n",
       "4  Recomendado  200.430 €  315 m²     4    636 €/m²         3         24   \n",
       "\n",
       "    type    region  \n",
       "0  pisos  a_coruna  \n",
       "1  pisos  a_coruna  \n",
       "2  pisos  a_coruna  \n",
       "3  pisos  a_coruna  \n",
       "4  pisos  a_coruna  "
      ]
     },
     "execution_count": 371,
     "metadata": {},
     "output_type": "execute_result"
    }
   ],
   "source": [
    "# Cargar el archivo CSV\n",
    "df = pd.read_csv('pisos.csv')\n",
    "\n",
    "# Mostrar las primeras filas para inspeccionar el dataset\n",
    "df.head()"
   ]
  },
  {
   "cell_type": "code",
   "execution_count": 372,
   "id": "dffb3a4a",
   "metadata": {},
   "outputs": [
    {
     "name": "stdout",
     "output_type": "stream",
     "text": [
      "<class 'pandas.core.frame.DataFrame'>\n",
      "RangeIndex: 777179 entries, 0 to 777178\n",
      "Data columns (total 14 columns):\n",
      " #   Column       Non-Null Count   Dtype \n",
      "---  ------       --------------   ----- \n",
      " 0   Unnamed: 0   777179 non-null  int64 \n",
      " 1   summary      777179 non-null  object\n",
      " 2   description  760349 non-null  object\n",
      " 3   location     776886 non-null  object\n",
      " 4   photo        776305 non-null  object\n",
      " 5   recomendado  28241 non-null   object\n",
      " 6   price        776898 non-null  object\n",
      " 7   size         776892 non-null  object\n",
      " 8   rooms        752352 non-null  object\n",
      " 9   price/m2     744608 non-null  object\n",
      " 10  bathrooms    752526 non-null  object\n",
      " 11  Num Photos   776898 non-null  object\n",
      " 12  type         776898 non-null  object\n",
      " 13  region       776282 non-null  object\n",
      "dtypes: int64(1), object(13)\n",
      "memory usage: 83.0+ MB\n"
     ]
    }
   ],
   "source": [
    "# Mostrar información general del dataset\n",
    "df.info()"
   ]
  },
  {
   "cell_type": "code",
   "execution_count": 373,
   "id": "dd35c07f",
   "metadata": {},
   "outputs": [
    {
     "data": {
      "text/html": [
       "<div>\n",
       "<style scoped>\n",
       "    .dataframe tbody tr th:only-of-type {\n",
       "        vertical-align: middle;\n",
       "    }\n",
       "\n",
       "    .dataframe tbody tr th {\n",
       "        vertical-align: top;\n",
       "    }\n",
       "\n",
       "    .dataframe thead th {\n",
       "        text-align: right;\n",
       "    }\n",
       "</style>\n",
       "<table border=\"1\" class=\"dataframe\">\n",
       "  <thead>\n",
       "    <tr style=\"text-align: right;\">\n",
       "      <th></th>\n",
       "      <th>price</th>\n",
       "      <th>size</th>\n",
       "    </tr>\n",
       "  </thead>\n",
       "  <tbody>\n",
       "    <tr>\n",
       "      <th>0</th>\n",
       "      <td>250.00</td>\n",
       "      <td>315.0</td>\n",
       "    </tr>\n",
       "    <tr>\n",
       "      <th>1</th>\n",
       "      <td>90.00</td>\n",
       "      <td>72.0</td>\n",
       "    </tr>\n",
       "    <tr>\n",
       "      <th>2</th>\n",
       "      <td>50.00</td>\n",
       "      <td>92.0</td>\n",
       "    </tr>\n",
       "    <tr>\n",
       "      <th>3</th>\n",
       "      <td>359.00</td>\n",
       "      <td>244.0</td>\n",
       "    </tr>\n",
       "    <tr>\n",
       "      <th>4</th>\n",
       "      <td>200.43</td>\n",
       "      <td>315.0</td>\n",
       "    </tr>\n",
       "  </tbody>\n",
       "</table>\n",
       "</div>"
      ],
      "text/plain": [
       "    price   size\n",
       "0  250.00  315.0\n",
       "1   90.00   72.0\n",
       "2   50.00   92.0\n",
       "3  359.00  244.0\n",
       "4  200.43  315.0"
      ]
     },
     "execution_count": 373,
     "metadata": {},
     "output_type": "execute_result"
    }
   ],
   "source": [
    "# Eliminar columnas innecesarias\n",
    "df.drop(columns=['Unnamed: 0', 'description', 'photo', 'Num Photos', 'recomendado'], inplace=True)\n",
    "\n",
    "# Quitar símbolos \"€ y m²\" en 'price' y 'size' y convertir a numérico\n",
    "df['price'] = pd.to_numeric(df['price'].str.replace('€', '').str.replace(',', ''), errors='coerce')\n",
    "df['size'] = pd.to_numeric(df['size'].str.replace('m²', '').str.replace(',', ''), errors='coerce')\n",
    "\n",
    "# Inspeccionar cambios\n",
    "df[['price', 'size']].head()\n"
   ]
  },
  {
   "cell_type": "code",
   "execution_count": 374,
   "id": "acea5036",
   "metadata": {},
   "outputs": [
    {
     "name": "stdout",
     "output_type": "stream",
     "text": [
      "summary      0\n",
      "location     0\n",
      "price        0\n",
      "size         0\n",
      "rooms        0\n",
      "price/m2     0\n",
      "bathrooms    0\n",
      "type         0\n",
      "region       0\n",
      "dtype: int64\n"
     ]
    }
   ],
   "source": [
    "# Eliminar filas con valores nulos\n",
    "df = df.dropna(subset=['price', 'size', 'rooms', 'bathrooms', 'location', 'region', 'price/m2'])\n",
    "\n",
    "# Verificar si todavía quedan valores faltantes\n",
    "print(df.isnull().sum())"
   ]
  },
  {
   "cell_type": "code",
   "execution_count": 375,
   "id": "4f23d856",
   "metadata": {},
   "outputs": [],
   "source": [
    "# Convertir las columnas 'rooms' y 'bathrooms' a formato numérico\n",
    "df['rooms'] = pd.to_numeric(df['rooms'], errors='coerce')\n",
    "df['bathrooms'] = pd.to_numeric(df['bathrooms'], errors='coerce')\n",
    "df['price'] = pd.to_numeric(df['price'], errors='coerce')\n",
    "df['size'] = pd.to_numeric(df['size'], errors='coerce')"
   ]
  },
  {
   "cell_type": "code",
   "execution_count": 376,
   "id": "f2dee028",
   "metadata": {},
   "outputs": [
    {
     "name": "stdout",
     "output_type": "stream",
     "text": [
      "Valores únicos en 'type':\n",
      "['pisos' 'casas' 'piso' 'aticos' 'duplexs' 'estudios' 'fincas_rusticas'\n",
      " 'lofts']\n"
     ]
    }
   ],
   "source": [
    "# Obtener valores únicos en la columna 'type'\n",
    "unique_types = df['type'].unique()\n",
    "\n",
    "# Imprimir los valores únicos\n",
    "print(\"Valores únicos en 'type':\")\n",
    "print(unique_types)"
   ]
  },
  {
   "cell_type": "code",
   "execution_count": 377,
   "id": "62d65031",
   "metadata": {},
   "outputs": [
    {
     "name": "stdout",
     "output_type": "stream",
     "text": [
      "type\n",
      "pisos              588551\n",
      "casas               85984\n",
      "duplexs             12107\n",
      "aticos              10536\n",
      "fincas_rusticas      4179\n",
      "estudios              523\n",
      "lofts                 401\n",
      "Name: count, dtype: int64\n"
     ]
    }
   ],
   "source": [
    "# Reemplazar 'piso' por 'pisos' en la columna 'type'\n",
    "df['type'] = df['type'].replace('piso', 'pisos')\n",
    "\n",
    "# Verificar los cambios\n",
    "print(df['type'].value_counts())\n"
   ]
  },
  {
   "cell_type": "code",
   "execution_count": 378,
   "id": "5b33d5d4",
   "metadata": {},
   "outputs": [],
   "source": [
    "# Crear términos de interacción\n",
    "df['size_rooms_interaction'] = df['size'] * df['rooms']\n",
    "df['size_bathrooms_interaction'] = df['size'] * df['bathrooms']\n",
    "df['rooms_bathrooms_interaction'] = df['rooms'] * df['bathrooms']"
   ]
  },
  {
   "cell_type": "code",
   "execution_count": 379,
   "id": "b8a5ae06",
   "metadata": {},
   "outputs": [
    {
     "name": "stdout",
     "output_type": "stream",
     "text": [
      "Número de valores atípicos en 'size': 58858\n",
      "         size\n",
      "0       315.0\n",
      "4       315.0\n",
      "8       300.0\n",
      "12      292.0\n",
      "14      348.0\n",
      "...       ...\n",
      "777121  525.0\n",
      "777162  461.0\n",
      "777164  445.0\n",
      "777168  460.0\n",
      "777169  293.0\n",
      "\n",
      "[58858 rows x 1 columns]\n"
     ]
    }
   ],
   "source": [
    "# Calcular cuartiles\n",
    "Q1 = df['size'].quantile(0.25)\n",
    "Q3 = df['size'].quantile(0.75)\n",
    "IQR = Q3 - Q1\n",
    "\n",
    "# Definir límites para detectar valores atípicos\n",
    "lower_bound = Q1 - 1.5 * IQR\n",
    "upper_bound = Q3 + 1.5 * IQR\n",
    "\n",
    "# Filtrar los valores atípicos\n",
    "outliers = df[(df['size'] < lower_bound) | (df['size'] > upper_bound)]\n",
    "\n",
    "print(f\"Número de valores atípicos en 'size': {outliers.shape[0]}\")\n",
    "print(outliers[['size']])"
   ]
  },
  {
   "cell_type": "code",
   "execution_count": 380,
   "id": "29c23d51",
   "metadata": {},
   "outputs": [
    {
     "name": "stdout",
     "output_type": "stream",
     "text": [
      "Número de valores atípicos en 'rooms': 6680\n",
      "      rooms\n",
      "14        9\n",
      "247       8\n",
      "275       8\n",
      "296       9\n",
      "389      12\n",
      "613       8\n",
      "731       8\n",
      "741       8\n",
      "989       9\n",
      "1106      8\n"
     ]
    }
   ],
   "source": [
    "# Calcular cuartiles para la columna 'rooms'\n",
    "Q1_rooms = df['rooms'].quantile(0.25)\n",
    "Q3_rooms = df['rooms'].quantile(0.75)\n",
    "IQR_rooms = Q3_rooms - Q1_rooms\n",
    "\n",
    "# Definir límites para detectar valores atípicos\n",
    "lower_bound_rooms = Q1_rooms - 1.5 * IQR_rooms\n",
    "upper_bound_rooms = Q3_rooms + 1.5 * IQR_rooms\n",
    "\n",
    "# Filtrar los valores atípicos\n",
    "outliers_rooms = df[(df['rooms'] < lower_bound_rooms) | (df['rooms'] > upper_bound_rooms)]\n",
    "\n",
    "print(f\"Número de valores atípicos en 'rooms': {outliers_rooms.shape[0]}\")\n",
    "print(outliers_rooms[['rooms']].head(10))  # Mostrar los primeros 10 valores atípicos\n"
   ]
  },
  {
   "cell_type": "code",
   "execution_count": 381,
   "id": "fc993c85",
   "metadata": {},
   "outputs": [
    {
     "name": "stdout",
     "output_type": "stream",
     "text": [
      "Número de valores atípicos en 'bathrooms': 35579\n",
      "     bathrooms\n",
      "8          4.0\n",
      "19         4.0\n",
      "42         4.0\n",
      "45         4.0\n",
      "51         5.0\n",
      "52         4.0\n",
      "70         4.0\n",
      "115        4.0\n",
      "138        5.0\n",
      "144        5.0\n"
     ]
    }
   ],
   "source": [
    "# Calcular cuartiles para la columna 'bathrooms'\n",
    "Q1_bathrooms = df['bathrooms'].quantile(0.25)\n",
    "Q3_bathrooms = df['bathrooms'].quantile(0.75)\n",
    "IQR_bathrooms = Q3_bathrooms - Q1_bathrooms\n",
    "\n",
    "# Definir límites para detectar valores atípicos\n",
    "lower_bound_bathrooms = Q1_bathrooms - 1.5 * IQR_bathrooms\n",
    "upper_bound_bathrooms = Q3_bathrooms + 1.5 * IQR_bathrooms\n",
    "\n",
    "# Filtrar los valores atípicos\n",
    "outliers_bathrooms = df[(df['bathrooms'] < lower_bound_bathrooms) | (df['bathrooms'] > upper_bound_bathrooms)]\n",
    "\n",
    "print(f\"Número de valores atípicos en 'bathrooms': {outliers_bathrooms.shape[0]}\")\n",
    "print(outliers_bathrooms[['bathrooms']].head(10))  # Mostrar los primeros 10 valores atípicos\n"
   ]
  },
  {
   "cell_type": "code",
   "execution_count": 382,
   "id": "6ac9f94e",
   "metadata": {},
   "outputs": [],
   "source": [
    "# Filtrar el DataFrame para eliminar los valores atípicos en 'size', 'rooms', y 'bathrooms'\n",
    "df_cleaned_final = df[\n",
    "    (df['size'] >= lower_bound) & (df['size'] <= upper_bound) &\n",
    "    (df['rooms'] >= lower_bound_rooms) & (df['rooms'] <= upper_bound_rooms) &\n",
    "    (df['bathrooms'] >= lower_bound_bathrooms) & (df['bathrooms'] <= upper_bound_bathrooms)\n",
    "]\n"
   ]
  },
  {
   "cell_type": "markdown",
   "id": "c3b12651",
   "metadata": {},
   "source": [
    "### Perform Train Test Split"
   ]
  },
  {
   "cell_type": "code",
   "execution_count": 383,
   "id": "60056944",
   "metadata": {},
   "outputs": [
    {
     "name": "stdout",
     "output_type": "stream",
     "text": [
      "Error cuadrático medio (MSE): 7989.33\n",
      "R² score del modelo en el conjunto de prueba: 0.5354\n"
     ]
    }
   ],
   "source": [
    "# Definir características (features) y variable objetivo (target)\n",
    "X = df_cleaned_final[['size', 'rooms', 'bathrooms', 'type', 'region', \n",
    "                       'size_rooms_interaction', 'size_bathrooms_interaction', 'rooms_bathrooms_interaction']]\n",
    "y = df_cleaned_final['price']  # La variable objetivo\n",
    "\n",
    "# Preprocesar características categóricas y escalar numéricas\n",
    "preprocessor = ColumnTransformer(\n",
    "    transformers=[\n",
    "        ('num', StandardScaler(), ['size', 'rooms', 'bathrooms', \n",
    "                                    'size_rooms_interaction', \n",
    "                                    'size_bathrooms_interaction', \n",
    "                                    'rooms_bathrooms_interaction']),  \n",
    "        ('cat', OneHotEncoder(handle_unknown='ignore'), ['type', 'region'])  \n",
    "    ],\n",
    "    remainder='passthrough'  \n",
    ")\n",
    "\n",
    "# Crear un pipeline que primero preprocesa y luego ajusta el modelo\n",
    "model = Pipeline(steps=[\n",
    "    ('preprocessor', preprocessor),\n",
    "    ('regressor', LinearRegression())\n",
    "])\n",
    "\n",
    "# Dividir el dataset en conjunto de entrenamiento y prueba\n",
    "X_train, X_test, y_train, y_test = train_test_split(X, y, test_size=0.2, random_state=42)\n",
    "\n",
    "# Ajustar el modelo a los datos de entrenamiento\n",
    "model.fit(X_train, y_train)\n",
    "\n",
    "# Realizar predicciones en el conjunto de prueba\n",
    "y_pred = model.predict(X_test)\n",
    "\n",
    "# Evaluar el rendimiento del modelo\n",
    "mse = mean_squared_error(y_test, y_pred)\n",
    "r2 = r2_score(y_test, y_pred)\n",
    "\n",
    "print(f\"Error cuadrático medio (MSE): {mse:.2f}\")\n",
    "print(f\"R² score del modelo en el conjunto de prueba: {r2:.4f}\")\n"
   ]
  },
  {
   "cell_type": "markdown",
   "id": "7441c692",
   "metadata": {},
   "source": [
    "### Model Selection / In this exercise we will be using KNN as our predictive model."
   ]
  },
  {
   "cell_type": "code",
   "execution_count": null,
   "id": "8363c21c",
   "metadata": {},
   "outputs": [],
   "source": [
    "# Definir características (features) y variable objetivo (target)\n",
    "X = df_cleaned_final[['size', 'rooms', 'bathrooms', 'type', 'region', \n",
    "                       'size_rooms_interaction', 'size_bathrooms_interaction', 'rooms_bathrooms_interaction']]\n",
    "y = df_cleaned_final['price']  # La variable objetivo\n",
    "\n",
    "# Preprocesar características categóricas y escalar numéricas\n",
    "preprocessor = ColumnTransformer(\n",
    "    transformers=[\n",
    "        ('num', StandardScaler(), ['size', 'rooms', 'bathrooms', \n",
    "                                    'size_rooms_interaction', \n",
    "                                    'size_bathrooms_interaction', \n",
    "                                    'rooms_bathrooms_interaction']),  \n",
    "        ('cat', OneHotEncoder(handle_unknown='ignore'), ['type', 'region'])  \n",
    "    ],\n",
    "    remainder='passthrough'  \n",
    ")\n",
    "\n",
    "# Crear el modelo KNN\n",
    "knn_model = KNeighborsRegressor()\n",
    "\n",
    "# Crear un pipeline que primero preprocesa y luego ajusta el modelo\n",
    "model = Pipeline(steps=[\n",
    "    ('preprocessor', preprocessor),\n",
    "    ('regressor', knn_model)\n",
    "])\n",
    "\n",
    "# Dividir el dataset en conjunto de entrenamiento y prueba\n",
    "X_train, X_test, y_train, y_test = train_test_split(X, y, test_size=0.2, random_state=42)\n",
    "\n",
    "# Ajustar el modelo a los datos de entrenamiento\n",
    "model.fit(X_train, y_train)\n",
    "\n",
    "# Realizar predicciones en el conjunto de prueba\n",
    "y_pred = model.predict(X_test)\n",
    "\n",
    "# Evaluar el rendimiento del modelo\n",
    "mse = mean_squared_error(y_test, y_pred)\n",
    "r2 = r2_score(y_test, y_pred)\n",
    "\n",
    "print(f\"Error cuadrático medio (MSE) con KNN: {mse:.2f}\")\n",
    "print(f\"R² score del modelo en el conjunto de prueba: {r2:.4f}\")\n",
    "\n",
    "# Optimización de hiperparámetros con GridSearchCV\n",
    "param_grid = {\n",
    "    'regressor__n_neighbors': [3, 5, 7, 10, 15],  # Número de vecinos\n",
    "    'regressor__weights': ['uniform', 'distance'],  # Peso de los vecinos\n",
    "}\n",
    "\n",
    "# Configurar la búsqueda de hiperparámetros\n",
    "grid_search = GridSearchCV(model, param_grid, cv=5, n_jobs=-1, verbose=2)\n",
    "\n",
    "# Ajustar el modelo a los datos de entrenamiento\n",
    "grid_search.fit(X_train, y_train)\n",
    "\n",
    "# Obtener el mejor modelo\n",
    "best_knn_model = grid_search.best_estimator_\n",
    "\n",
    "# Realizar predicciones con el mejor modelo\n",
    "y_pred_best = best_knn_model.predict(X_test)\n",
    "\n",
    "# Evaluar el rendimiento del mejor modelo\n",
    "mse_best = mean_squared_error(y_test, y_pred_best)\n",
    "r2_best = r2_score(y_test, y_pred_best)\n",
    "\n",
    "print(f\"Error cuadrático medio (MSE) con KNN optimizado: {mse_best:.2f}\")\n",
    "print(f\"R² score del modelo en el conjunto de prueba: {r2_best:.4f}\")\n"
   ]
  }
 ],
 "metadata": {
  "kernelspec": {
   "display_name": "base",
   "language": "python",
   "name": "python3"
  },
  "language_info": {
   "codemirror_mode": {
    "name": "ipython",
    "version": 3
   },
   "file_extension": ".py",
   "mimetype": "text/x-python",
   "name": "python",
   "nbconvert_exporter": "python",
   "pygments_lexer": "ipython3",
   "version": "3.12.4"
  }
 },
 "nbformat": 4,
 "nbformat_minor": 5
}
